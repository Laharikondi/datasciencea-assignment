{
 "cells": [
  {
   "cell_type": "code",
   "execution_count": 5,
   "id": "d060e9c0",
   "metadata": {},
   "outputs": [],
   "source": [
    "import pandas as pd\n",
    "import numpy as np\n",
    "import matplotlib.pyplot as plt\n",
    "import seaborn as sns\n",
    "from sklearn.preprocessing import StandardScaler\n",
    "from sklearn.cluster import KMeans\n",
    "from scipy.spatial.distance import cdist\n",
    "from sklearn.metrics import davies_bouldin_score\n",
    "from sklearn.neighbors import NearestNeighbors\n",
    "\n",
    "customers = pd.read_csv(\"C:/Users/Lahari/Downloads/Customers.csv\")\n",
    "products = pd.read_csv(\"C:/Users/Lahari/Downloads/Products.csv\")\n",
    "transactions = pd.read_csv(\"C:/Users/Lahari/Downloads/Transactions.csv\")\n",
    "\n",
    "\n",
    "\n",
    "# Now re-run your code\n",
    "customer_features = transactions.groupby('CustomerID').agg({'TotalValue': 'sum', 'Quantity': 'sum'}).reset_index()\n",
    "customer_data = customers.merge(customer_features, on='CustomerID', how='left').fillna(0)\n",
    "\n",
    "\n",
    "scaler = StandardScaler()\n",
    "scaled_data = scaler.fit_transform(customer_data[['TotalValue', 'Quantity']])\n",
    "\n",
    "nn = NearestNeighbors(n_neighbors=4, metric='euclidean')\n",
    "nn.fit(scaled_data)\n",
    "\n",
    "def find_lookalikes(customer_id):\n",
    "    idx = customer_data[customer_data['CustomerID'] == customer_id].index[0]\n",
    "    distances, indices = nn.kneighbors([scaled_data[idx]])\n",
    "    lookalikes = [(customer_data.iloc[i]['CustomerID'], distances[0][j]) for j, i in enumerate(indices[0][1:])]\n",
    "    return lookalikes\n",
    "\n",
    "lookalike_results = {cust_id: find_lookalikes(cust_id) for cust_id in customers['CustomerID'][:20]}\n",
    "lookalike_df = pd.DataFrame.from_dict(lookalike_results, orient='index', columns=['Lookalike1', 'Lookalike2', 'Lookalike3'])\n",
    "lookalike_df.to_csv('lahari_kondi_Lookalike.csv')\n"
   ]
  },
  {
   "cell_type": "code",
   "execution_count": null,
   "id": "ed189c49",
   "metadata": {},
   "outputs": [],
   "source": []
  }
 ],
 "metadata": {
  "kernelspec": {
   "display_name": "Python 3 (ipykernel)",
   "language": "python",
   "name": "python3"
  },
  "language_info": {
   "codemirror_mode": {
    "name": "ipython",
    "version": 3
   },
   "file_extension": ".py",
   "mimetype": "text/x-python",
   "name": "python",
   "nbconvert_exporter": "python",
   "pygments_lexer": "ipython3",
   "version": "3.11.3"
  }
 },
 "nbformat": 4,
 "nbformat_minor": 5
}
